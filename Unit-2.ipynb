{
  "nbformat": 4,
  "nbformat_minor": 0,
  "metadata": {
    "colab": {
      "provenance": [],
      "authorship_tag": "ABX9TyMvJrw9Xj9DBg0XE7qMQjus",
      "include_colab_link": true
    },
    "kernelspec": {
      "name": "python3",
      "display_name": "Python 3"
    },
    "language_info": {
      "name": "python"
    }
  },
  "cells": [
    {
      "cell_type": "markdown",
      "metadata": {
        "id": "view-in-github",
        "colab_type": "text"
      },
      "source": [
        "<a href=\"https://colab.research.google.com/github/nathisatyasiri/IIY_IIISEM_PYTHON/blob/main/Unit-2.ipynb\" target=\"_parent\"><img src=\"https://colab.research.google.com/assets/colab-badge.svg\" alt=\"Open In Colab\"/></a>"
      ]
    },
    {
      "cell_type": "code",
      "execution_count": null,
      "metadata": {
        "id": "tdRwWiwdUdaf"
      },
      "outputs": [],
      "source": [
        "class Animal:\n",
        "    def make_sound(self):\n",
        "        print(\"Some generic animal sound\")\n",
        "class Dog(Animal):\n",
        "    def make_sound(self):\n",
        "        print(\"Woof!\")\n",
        "class Cat(Animal):\n",
        "    def make_sound(self):\n",
        "        print(\"Meow!\")\n",
        "class Bird(Animal):\n",
        "    def make_sound(self):\n",
        "        print(\"Tweet!\")\n",
        "# Demonstrating polymorphism\n",
        "animals = [Dog(), Cat(), Bird()]\n",
        "for animal in animals:\n",
        "    animal.make_sound()"
      ]
    }
  ]
}