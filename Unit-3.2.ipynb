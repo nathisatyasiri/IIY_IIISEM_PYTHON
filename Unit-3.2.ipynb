{
  "nbformat": 4,
  "nbformat_minor": 0,
  "metadata": {
    "colab": {
      "provenance": [],
      "authorship_tag": "ABX9TyPNDm0XklvhGizQXXp4S99Z",
      "include_colab_link": true
    },
    "kernelspec": {
      "name": "python3",
      "display_name": "Python 3"
    },
    "language_info": {
      "name": "python"
    }
  },
  "cells": [
    {
      "cell_type": "markdown",
      "metadata": {
        "id": "view-in-github",
        "colab_type": "text"
      },
      "source": [
        "<a href=\"https://colab.research.google.com/github/nathisatyasiri/IIY_IIISEM_PYTHON/blob/main/Unit-3.2.ipynb\" target=\"_parent\"><img src=\"https://colab.research.google.com/assets/colab-badge.svg\" alt=\"Open In Colab\"/></a>"
      ]
    },
    {
      "cell_type": "code",
      "execution_count": 1,
      "metadata": {
        "colab": {
          "base_uri": "https://localhost:8080/"
        },
        "id": "OoNOylCd5M5e",
        "outputId": "e76e8b77-753e-40f0-8153-7a1e798fca91"
      },
      "outputs": [
        {
          "output_type": "stream",
          "name": "stdout",
          "text": [
            "Original array: [10 25 30 45 50 60 70 80 90]\n",
            "Numbers less than 50 : [10 25 30 45]\n",
            "Numbers greater than 50 : [60 70 80 90]\n",
            "String representation using repr(): array([10, 25, 30, 45, 50, 60, 70, 80, 90])\n"
          ]
        }
      ],
      "source": [
        "# Program (a)\n",
        "import numpy as np\n",
        "\n",
        "# Create a NumPy array\n",
        "arr = np.array([10, 25, 30, 45, 50, 60, 70, 80, 90])\n",
        "\n",
        "# Specify a number for comparison\n",
        "num = 50\n",
        "\n",
        "# Extract numbers less than and greater than 'num'\n",
        "less_than = arr[arr < num]\n",
        "greater_than = arr[arr > num]\n",
        "\n",
        "print(\"Original array:\", arr)\n",
        "print(\"Numbers less than\", num, \":\", less_than)\n",
        "print(\"Numbers greater than\", num, \":\", greater_than)\n",
        "\n",
        "# Example of repr() to show string representation of an array\n",
        "print(\"String representation using repr():\", repr(arr))"
      ]
    },
    {
      "cell_type": "code",
      "source": [
        "# Program (b)\n",
        "import numpy as np\n",
        "\n",
        "# Create a 2D NumPy array\n",
        "arr = np.array([\n",
        "    [3, 7, 1],\n",
        "    [10, 2, 9],\n",
        "    [5, 6, 8]\n",
        "])\n",
        "\n",
        "print(\"Array:\\n\", arr)\n",
        "\n",
        "# Find overall max and min\n",
        "max_value = np.max(arr)\n",
        "min_value = np.min(arr)\n",
        "\n",
        "# Find indices of max and min\n",
        "max_index = np.argmax(arr)\n",
        "min_index = np.argmin(arr)\n",
        "\n",
        "# Find indices along an axis (e.g., rows or columns)\n",
        "max_indices_row = np.argmax(arr, axis=1)   # max in each row\n",
        "min_indices_col = np.argmin(arr, axis=0)   # min in each column\n",
        "\n",
        "print(\"\\nMaximum value:\", max_value)\n",
        "print(\"Minimum value:\", min_value)\n",
        "print(\"Index of maximum value (flattened):\", max_index)\n",
        "print(\"Index of minimum value (flattened):\", min_index)\n",
        "print(\"Indices of max in each row:\", max_indices_row)\n",
        "print(\"Indices of min in each column:\", min_indices_col)"
      ],
      "metadata": {
        "colab": {
          "base_uri": "https://localhost:8080/"
        },
        "id": "tR4rdY_C5TiL",
        "outputId": "7fc34eac-7176-4f0f-f520-53872d5acb48"
      },
      "execution_count": 2,
      "outputs": [
        {
          "output_type": "stream",
          "name": "stdout",
          "text": [
            "Array:\n",
            " [[ 3  7  1]\n",
            " [10  2  9]\n",
            " [ 5  6  8]]\n",
            "\n",
            "Maximum value: 10\n",
            "Minimum value: 1\n",
            "Index of maximum value (flattened): 3\n",
            "Index of minimum value (flattened): 2\n",
            "Indices of max in each row: [1 0 2]\n",
            "Indices of min in each column: [0 1 0]\n"
          ]
        }
      ]
    },
    {
      "cell_type": "code",
      "source": [],
      "metadata": {
        "id": "ek39BO_d5Zgd"
      },
      "execution_count": null,
      "outputs": []
    }
  ]
}