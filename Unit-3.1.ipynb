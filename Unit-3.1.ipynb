{
  "nbformat": 4,
  "nbformat_minor": 0,
  "metadata": {
    "colab": {
      "provenance": [],
      "authorship_tag": "ABX9TyMmat2z0QMWz0mDxjHtCiA1",
      "include_colab_link": true
    },
    "kernelspec": {
      "name": "python3",
      "display_name": "Python 3"
    },
    "language_info": {
      "name": "python"
    }
  },
  "cells": [
    {
      "cell_type": "markdown",
      "metadata": {
        "id": "view-in-github",
        "colab_type": "text"
      },
      "source": [
        "<a href=\"https://colab.research.google.com/github/nathisatyasiri/IIY_IIISEM_PYTHON/blob/main/Unit-3.1.ipynb\" target=\"_parent\"><img src=\"https://colab.research.google.com/assets/colab-badge.svg\" alt=\"Open In Colab\"/></a>"
      ]
    },
    {
      "cell_type": "code",
      "execution_count": 4,
      "metadata": {
        "colab": {
          "base_uri": "https://localhost:8080/"
        },
        "id": "KK5_ghz2tpTG",
        "outputId": "467f839c-b27f-4d6f-9978-ed2928e6b049"
      },
      "outputs": [
        {
          "output_type": "stream",
          "name": "stdout",
          "text": [
            "Array 1: [10 20 30]\n",
            "Array 2: [1 2 3]\n",
            "Result (Array1 + Array2): [11 22 33]\n"
          ]
        }
      ],
      "source": [
        "import numpy as np\n",
        "\n",
        "array1= np.array([10, 20, 30])\n",
        "\n",
        "array2= np.array([1, 2, 3])\n",
        "\n",
        "result = np.add(array1, array2)\n",
        "\n",
        "print(\"Array 1:\", array1)\n",
        "print(\"Array 2:\", array2)\n",
        "print(\"Result (Array1 + Array2):\", result)"
      ]
    },
    {
      "cell_type": "code",
      "source": [
        "\n",
        "import numpy as np\n",
        "\n",
        "# Create an array\n",
        "arr = np.array([1, 2, 3, 4, 5])\n",
        "\n",
        "# Test if none of the elements is zero\n",
        "result = np.all(arr)  # returns True if all elements are non-zero\n",
        "\n",
        "print(\"Array:\", arr)\n",
        "print(\"None of the elements are zero:\", result)"
      ],
      "metadata": {
        "colab": {
          "base_uri": "https://localhost:8080/"
        },
        "id": "8HFV868Y4chQ",
        "outputId": "1308e3ca-09f3-4cdf-bc8b-d4ddf54d2e7c"
      },
      "execution_count": 5,
      "outputs": [
        {
          "output_type": "stream",
          "name": "stdout",
          "text": [
            "Array: [1 2 3 4 5]\n",
            "None of the elements are zero: True\n"
          ]
        }
      ]
    },
    {
      "cell_type": "markdown",
      "source": [],
      "metadata": {
        "id": "jWf7_6TY4qg2"
      }
    },
    {
      "cell_type": "code",
      "source": [
        "\n",
        "import numpy as np\n",
        "\n",
        "# Create two arrays\n",
        "x = np.array([2, 5, 8, 10])\n",
        "y = np.array([3, 5, 7, 10])\n",
        "\n",
        "# Element-wise comparisons\n",
        "print(\"Array x:\", x)\n",
        "print(\"Array y:\", y)\n",
        "\n",
        "print(\"\\nGreater (x > y):\", np.greater(x, y))\n",
        "print(\"Greater equal (x >= y):\", np.greater_equal(x, y))\n",
        "print(\"Less (x < y):\", np.less(x, y))\n",
        "print(\"Less equal (x <= y):\", np.less_equal(x, y))\n",
        "print(\"Equal (x == y):\", np.equal(x, y))\n",
        "print(\"Equal within tolerance (allclose):\", np.allclose(x, y))"
      ],
      "metadata": {
        "colab": {
          "base_uri": "https://localhost:8080/"
        },
        "id": "pRp5jDRZ4rWA",
        "outputId": "b58752f3-094a-41c3-c3df-d3b8649dffb9"
      },
      "execution_count": 6,
      "outputs": [
        {
          "output_type": "stream",
          "name": "stdout",
          "text": [
            "Array x: [ 2  5  8 10]\n",
            "Array y: [ 3  5  7 10]\n",
            "\n",
            "Greater (x > y): [False False  True False]\n",
            "Greater equal (x >= y): [False  True  True  True]\n",
            "Less (x < y): [ True False False False]\n",
            "Less equal (x <= y): [ True  True False  True]\n",
            "Equal (x == y): [False  True False  True]\n",
            "Equal within tolerance (allclose): False\n"
          ]
        }
      ]
    },
    {
      "cell_type": "code",
      "source": [],
      "metadata": {
        "id": "6ccroENg4ubz"
      },
      "execution_count": 6,
      "outputs": []
    }
  ]
}